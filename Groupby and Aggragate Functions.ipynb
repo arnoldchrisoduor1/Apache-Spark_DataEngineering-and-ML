{
 "cells": [
  {
   "cell_type": "markdown",
   "id": "5d0213f2",
   "metadata": {},
   "source": [
    "# GroupBy and Aggragate Functions."
   ]
  },
  {
   "cell_type": "code",
   "execution_count": 2,
   "id": "193f38f8",
   "metadata": {},
   "outputs": [],
   "source": [
    "from pyspark.sql import SparkSession"
   ]
  },
  {
   "cell_type": "code",
   "execution_count": 3,
   "id": "b9c8d22d",
   "metadata": {},
   "outputs": [],
   "source": [
    "spark = SparkSession.builder.appName('Agg').getOrCreate()"
   ]
  },
  {
   "cell_type": "code",
   "execution_count": 4,
   "id": "73b3bcfe",
   "metadata": {},
   "outputs": [],
   "source": [
    "df_pyspark = spark.read.csv('test1.csv', header=True, inferSchema=True)"
   ]
  },
  {
   "cell_type": "code",
   "execution_count": 5,
   "id": "3242e563",
   "metadata": {},
   "outputs": [
    {
     "name": "stdout",
     "output_type": "stream",
     "text": [
      "+-------+---+------+-------------+-----------+\n",
      "|   Name|Age|Salary|         City| Department|\n",
      "+-------+---+------+-------------+-----------+\n",
      "|   John| 30| 72901|     New York|         HR|\n",
      "|  Alice| 31| 72817|San Francisco|Engineering|\n",
      "|    Bob| 32| 64682|  Los Angeles|      Sales|\n",
      "|Charlie| 20| 62500|      Chicago|  Marketing|\n",
      "|  David| 27| 56232|       Boston|    Finance|\n",
      "|   John| 31| 43894|     New York|         HR|\n",
      "|  Alice| 37| 44318|San Francisco|Engineering|\n",
      "|    Bob| 32| 41379|  Los Angeles|      Sales|\n",
      "|Charlie| 31| 63345|      Chicago|  Marketing|\n",
      "|  David| 26| 58870|       Boston|    Finance|\n",
      "|   John| 38| 79745|     New York|         HR|\n",
      "|  Alice| 29| 63187|San Francisco|Engineering|\n",
      "|    Bob| 36| 67289|  Los Angeles|      Sales|\n",
      "|Charlie| 33| 42526|      Chicago|  Marketing|\n",
      "|  David| 22| 79208|       Boston|    Finance|\n",
      "|   John| 26| 69270|     New York|         HR|\n",
      "|  Alice| 25| 43699|San Francisco|Engineering|\n",
      "|    Bob| 36| 72481|  Los Angeles|      Sales|\n",
      "|Charlie| 29| 63446|      Chicago|  Marketing|\n",
      "|  David| 31| 48601|       Boston|    Finance|\n",
      "+-------+---+------+-------------+-----------+\n",
      "only showing top 20 rows\n",
      "\n"
     ]
    }
   ],
   "source": [
    "df_pyspark.show()"
   ]
  },
  {
   "cell_type": "code",
   "execution_count": 6,
   "id": "1b55674a",
   "metadata": {},
   "outputs": [
    {
     "name": "stdout",
     "output_type": "stream",
     "text": [
      "root\n",
      " |-- Name: string (nullable = true)\n",
      " |-- Age: integer (nullable = true)\n",
      " |-- Salary: integer (nullable = true)\n",
      " |-- City: string (nullable = true)\n",
      " |-- Department: string (nullable = true)\n",
      "\n"
     ]
    }
   ],
   "source": [
    "df_pyspark.printSchema()"
   ]
  },
  {
   "cell_type": "markdown",
   "id": "290b4cbf",
   "metadata": {},
   "source": [
    "## Groupby Operation."
   ]
  },
  {
   "cell_type": "code",
   "execution_count": 9,
   "id": "bbbba488",
   "metadata": {},
   "outputs": [
    {
     "name": "stdout",
     "output_type": "stream",
     "text": [
      "+-------+--------+-----------+\n",
      "|   Name|sum(Age)|sum(Salary)|\n",
      "+-------+--------+-----------+\n",
      "|Charlie|     175|     328290|\n",
      "|    Bob|     182|     389830|\n",
      "|   John|     196|     380551|\n",
      "|  Alice|     175|     362252|\n",
      "|  David|     154|     334602|\n",
      "+-------+--------+-----------+\n",
      "\n"
     ]
    }
   ],
   "source": [
    "## Grouped to find the maximu salary.\n",
    "\n",
    "df_pyspark.groupBy('Name').sum().show()"
   ]
  },
  {
   "cell_type": "code",
   "execution_count": 10,
   "id": "7a89d6c2",
   "metadata": {},
   "outputs": [
    {
     "data": {
      "text/plain": [
       "['Name', 'Age', 'Salary', 'City', 'Department']"
      ]
     },
     "execution_count": 10,
     "metadata": {},
     "output_type": "execute_result"
    }
   ],
   "source": [
    "df_pyspark.columns"
   ]
  },
  {
   "cell_type": "code",
   "execution_count": 11,
   "id": "2be221fa",
   "metadata": {},
   "outputs": [
    {
     "name": "stdout",
     "output_type": "stream",
     "text": [
      "+-----------+--------+-----------+\n",
      "| Department|sum(Age)|sum(Salary)|\n",
      "+-----------+--------+-----------+\n",
      "|      Sales|     182|     389830|\n",
      "|Engineering|     175|     362252|\n",
      "|         HR|     196|     380551|\n",
      "|    Finance|     154|     334602|\n",
      "|  Marketing|     175|     328290|\n",
      "+-----------+--------+-----------+\n",
      "\n"
     ]
    }
   ],
   "source": [
    "## Grouped by department.\n",
    "df_pyspark.groupBy('Department').sum().show()"
   ]
  },
  {
   "cell_type": "code",
   "execution_count": 12,
   "id": "c56bbfec",
   "metadata": {},
   "outputs": [
    {
     "name": "stdout",
     "output_type": "stream",
     "text": [
      "+-----------+------------------+------------------+\n",
      "| Department|          avg(Age)|       avg(Salary)|\n",
      "+-----------+------------------+------------------+\n",
      "|      Sales|30.333333333333332|64971.666666666664|\n",
      "|Engineering|29.166666666666668|60375.333333333336|\n",
      "|         HR|32.666666666666664|63425.166666666664|\n",
      "|    Finance|25.666666666666668|           55767.0|\n",
      "|  Marketing|29.166666666666668|           54715.0|\n",
      "+-----------+------------------+------------------+\n",
      "\n"
     ]
    }
   ],
   "source": [
    "df_pyspark.groupBy('Department').mean().show()"
   ]
  },
  {
   "cell_type": "code",
   "execution_count": 13,
   "id": "600200f0",
   "metadata": {},
   "outputs": [
    {
     "name": "stdout",
     "output_type": "stream",
     "text": [
      "+-----------+-----+\n",
      "| Department|count|\n",
      "+-----------+-----+\n",
      "|      Sales|    6|\n",
      "|Engineering|    6|\n",
      "|         HR|    6|\n",
      "|    Finance|    6|\n",
      "|  Marketing|    6|\n",
      "+-----------+-----+\n",
      "\n"
     ]
    }
   ],
   "source": [
    "df_pyspark.groupBy('Department').count().show()"
   ]
  },
  {
   "cell_type": "code",
   "execution_count": 14,
   "id": "26612345",
   "metadata": {},
   "outputs": [
    {
     "name": "stdout",
     "output_type": "stream",
     "text": [
      "+-----------+\n",
      "|sum(Salary)|\n",
      "+-----------+\n",
      "|    1795525|\n",
      "+-----------+\n",
      "\n"
     ]
    }
   ],
   "source": [
    "df_pyspark.agg({'Salary':'sum'}).show()"
   ]
  },
  {
   "cell_type": "code",
   "execution_count": 15,
   "id": "e0b72d78",
   "metadata": {},
   "outputs": [
    {
     "name": "stdout",
     "output_type": "stream",
     "text": [
      "+-------+--------+-----------+\n",
      "|   Name|max(Age)|max(Salary)|\n",
      "+-------+--------+-----------+\n",
      "|Charlie|      38|      63446|\n",
      "|    Bob|      36|      78489|\n",
      "|   John|      38|      79745|\n",
      "|  Alice|      37|      79275|\n",
      "|  David|      31|      79208|\n",
      "+-------+--------+-----------+\n",
      "\n"
     ]
    }
   ],
   "source": [
    "## Who is getting the highest salary.\n",
    "df_pyspark.groupBy('Name').max().show()"
   ]
  },
  {
   "cell_type": "code",
   "execution_count": 17,
   "id": "b17245af",
   "metadata": {},
   "outputs": [
    {
     "name": "stdout",
     "output_type": "stream",
     "text": [
      "+-------+--------+-----------+\n",
      "|   Name|min(Age)|min(Salary)|\n",
      "+-------+--------+-----------+\n",
      "|Charlie|      20|      42526|\n",
      "|    Bob|      20|      41379|\n",
      "|   John|      26|      43894|\n",
      "|  Alice|      24|      43699|\n",
      "|  David|      20|      41422|\n",
      "+-------+--------+-----------+\n",
      "\n"
     ]
    }
   ],
   "source": [
    "## Who is getting the lowest salary.\n",
    "df_pyspark.groupBy('Name').min().show()"
   ]
  }
 ],
 "metadata": {
  "kernelspec": {
   "display_name": "Python 3 (ipykernel)",
   "language": "python",
   "name": "python3"
  },
  "language_info": {
   "codemirror_mode": {
    "name": "ipython",
    "version": 3
   },
   "file_extension": ".py",
   "mimetype": "text/x-python",
   "name": "python",
   "nbconvert_exporter": "python",
   "pygments_lexer": "ipython3",
   "version": "3.11.5"
  }
 },
 "nbformat": 4,
 "nbformat_minor": 5
}
