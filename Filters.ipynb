{
 "cells": [
  {
   "cell_type": "markdown",
   "id": "35273dcc",
   "metadata": {},
   "source": [
    "# pyspark Dataframes\n",
    "\n",
    "- Filter Operations.\n",
    "- &,|,==\n",
    "- ~"
   ]
  },
  {
   "cell_type": "code",
   "execution_count": 2,
   "id": "341318a4",
   "metadata": {},
   "outputs": [],
   "source": [
    "from pyspark.sql import SparkSession"
   ]
  },
  {
   "cell_type": "code",
   "execution_count": 3,
   "id": "e6f3be87",
   "metadata": {},
   "outputs": [],
   "source": [
    "spark = SparkSession.builder.appName('dataframe').getOrCreate()"
   ]
  },
  {
   "cell_type": "code",
   "execution_count": 1,
   "id": "956c22f1",
   "metadata": {},
   "outputs": [
    {
     "name": "stdout",
     "output_type": "stream",
     "text": [
      "DataFrame:\n",
      "       Name  Age  Salary           City   Department\n",
      "0      John   30   72901       New York           HR\n",
      "1     Alice   31   72817  San Francisco  Engineering\n",
      "2       Bob   32   64682    Los Angeles        Sales\n",
      "3   Charlie   20   62500        Chicago    Marketing\n",
      "4     David   27   56232         Boston      Finance\n",
      "5      John   31   43894       New York           HR\n",
      "6     Alice   37   44318  San Francisco  Engineering\n",
      "7       Bob   32   41379    Los Angeles        Sales\n",
      "8   Charlie   31   63345        Chicago    Marketing\n",
      "9     David   26   58870         Boston      Finance\n",
      "10     John   38   79745       New York           HR\n",
      "11    Alice   29   63187  San Francisco  Engineering\n",
      "12      Bob   36   67289    Los Angeles        Sales\n",
      "13  Charlie   33   42526        Chicago    Marketing\n",
      "14    David   22   79208         Boston      Finance\n",
      "15     John   26   69270       New York           HR\n",
      "16    Alice   25   43699  San Francisco  Engineering\n",
      "17      Bob   36   72481    Los Angeles        Sales\n",
      "18  Charlie   29   63446        Chicago    Marketing\n",
      "19    David   31   48601         Boston      Finance\n",
      "20     John   38   55512       New York           HR\n",
      "21    Alice   24   58956  San Francisco  Engineering\n",
      "22      Bob   20   78489    Los Angeles        Sales\n",
      "23  Charlie   24   48547        Chicago    Marketing\n",
      "24    David   28   41422         Boston      Finance\n",
      "25     John   33   59229       New York           HR\n",
      "26    Alice   29   79275  San Francisco  Engineering\n",
      "27      Bob   26   65510    Los Angeles        Sales\n",
      "28  Charlie   38   47926        Chicago    Marketing\n",
      "29    David   20   50269         Boston      Finance\n",
      "\n",
      "DataFrame has been written to 'sample_data.csv'\n"
     ]
    }
   ],
   "source": [
    "import pandas as pd\n",
    "import numpy as np\n",
    "\n",
    "# Create a DataFrame with random data\n",
    "data = {\n",
    "    'Name': ['John', 'Alice', 'Bob', 'Charlie', 'David'] * 6,\n",
    "    'Age': np.random.randint(20, 40, 30),\n",
    "    'Salary': np.random.randint(40000, 80000, 30),\n",
    "    'City': ['New York', 'San Francisco', 'Los Angeles', 'Chicago', 'Boston'] * 6,\n",
    "    'Department': ['HR', 'Engineering', 'Sales', 'Marketing', 'Finance'] * 6\n",
    "}\n",
    "\n",
    "df = pd.DataFrame(data)\n",
    "\n",
    "# Display the DataFrame\n",
    "print(\"DataFrame:\")\n",
    "print(df)\n",
    "\n",
    "# Write the DataFrame to a CSV file\n",
    "df.to_csv('test1.csv', index=False)\n",
    "\n",
    "print(\"\\nDataFrame has been written to 'sample_data.csv'\")\n"
   ]
  },
  {
   "cell_type": "code",
   "execution_count": 4,
   "id": "027fe9e1",
   "metadata": {},
   "outputs": [],
   "source": [
    "df_pyspark = spark.read.csv('test1.csv', header=True, inferSchema=True)"
   ]
  },
  {
   "cell_type": "code",
   "execution_count": 6,
   "id": "8e0aad9a",
   "metadata": {},
   "outputs": [
    {
     "name": "stdout",
     "output_type": "stream",
     "text": [
      "+-------+---+------+-------------+-----------+\n",
      "|   Name|Age|Salary|         City| Department|\n",
      "+-------+---+------+-------------+-----------+\n",
      "|   John| 30| 72901|     New York|         HR|\n",
      "|  Alice| 31| 72817|San Francisco|Engineering|\n",
      "|    Bob| 32| 64682|  Los Angeles|      Sales|\n",
      "|Charlie| 20| 62500|      Chicago|  Marketing|\n",
      "|  David| 27| 56232|       Boston|    Finance|\n",
      "+-------+---+------+-------------+-----------+\n",
      "only showing top 5 rows\n",
      "\n"
     ]
    }
   ],
   "source": [
    "df_pyspark.show(5)"
   ]
  },
  {
   "cell_type": "markdown",
   "id": "463ffdcc",
   "metadata": {},
   "source": [
    "## Filter Operations."
   ]
  },
  {
   "cell_type": "code",
   "execution_count": 9,
   "id": "8f219e0c",
   "metadata": {},
   "outputs": [
    {
     "name": "stdout",
     "output_type": "stream",
     "text": [
      "+-------+---+------+-------------+-----------+\n",
      "|   Name|Age|Salary|         City| Department|\n",
      "+-------+---+------+-------------+-----------+\n",
      "|   John| 31| 43894|     New York|         HR|\n",
      "|  Alice| 37| 44318|San Francisco|Engineering|\n",
      "|    Bob| 32| 41379|  Los Angeles|      Sales|\n",
      "|Charlie| 33| 42526|      Chicago|  Marketing|\n",
      "|  Alice| 25| 43699|San Francisco|Engineering|\n",
      "|  David| 31| 48601|       Boston|    Finance|\n",
      "|Charlie| 24| 48547|      Chicago|  Marketing|\n",
      "|  David| 28| 41422|       Boston|    Finance|\n",
      "|Charlie| 38| 47926|      Chicago|  Marketing|\n",
      "+-------+---+------+-------------+-----------+\n",
      "\n"
     ]
    }
   ],
   "source": [
    "### Salary of people less than or equal to 2000.\n",
    "df_pyspark.filter(\"Salary<=50000\").show()"
   ]
  },
  {
   "cell_type": "code",
   "execution_count": 10,
   "id": "802cb15e",
   "metadata": {},
   "outputs": [
    {
     "name": "stdout",
     "output_type": "stream",
     "text": [
      "+-------+---+\n",
      "|   Name|Age|\n",
      "+-------+---+\n",
      "|   John| 31|\n",
      "|  Alice| 37|\n",
      "|    Bob| 32|\n",
      "|Charlie| 33|\n",
      "|  Alice| 25|\n",
      "|  David| 31|\n",
      "|Charlie| 24|\n",
      "|  David| 28|\n",
      "|Charlie| 38|\n",
      "+-------+---+\n",
      "\n"
     ]
    }
   ],
   "source": [
    "df_pyspark.filter(\"Salary<=50000\").select(['Name','Age']).show()"
   ]
  },
  {
   "cell_type": "code",
   "execution_count": 12,
   "id": "9edf619a",
   "metadata": {},
   "outputs": [
    {
     "name": "stdout",
     "output_type": "stream",
     "text": [
      "+-------+---+------+-------------+-----------+\n",
      "|   Name|Age|Salary|         City| Department|\n",
      "+-------+---+------+-------------+-----------+\n",
      "|   John| 31| 43894|     New York|         HR|\n",
      "|  Alice| 37| 44318|San Francisco|Engineering|\n",
      "|    Bob| 32| 41379|  Los Angeles|      Sales|\n",
      "|Charlie| 33| 42526|      Chicago|  Marketing|\n",
      "|  Alice| 25| 43699|San Francisco|Engineering|\n",
      "|  David| 31| 48601|       Boston|    Finance|\n",
      "|Charlie| 24| 48547|      Chicago|  Marketing|\n",
      "|  David| 28| 41422|       Boston|    Finance|\n",
      "|Charlie| 38| 47926|      Chicago|  Marketing|\n",
      "+-------+---+------+-------------+-----------+\n",
      "\n"
     ]
    }
   ],
   "source": [
    "df_pyspark.filter(df_pyspark['Salary'] <= 50000).show()"
   ]
  },
  {
   "cell_type": "code",
   "execution_count": 18,
   "id": "d4aa0835",
   "metadata": {},
   "outputs": [
    {
     "name": "stdout",
     "output_type": "stream",
     "text": [
      "+-----+---+------+-------------+-----------+\n",
      "| Name|Age|Salary|         City| Department|\n",
      "+-----+---+------+-------------+-----------+\n",
      "|David| 27| 56232|       Boston|    Finance|\n",
      "|David| 26| 58870|       Boston|    Finance|\n",
      "| John| 38| 55512|     New York|         HR|\n",
      "|Alice| 24| 58956|San Francisco|Engineering|\n",
      "| John| 33| 59229|     New York|         HR|\n",
      "|David| 20| 50269|       Boston|    Finance|\n",
      "+-----+---+------+-------------+-----------+\n",
      "\n"
     ]
    }
   ],
   "source": [
    "df_pyspark.filter((df_pyspark['Salary'] <= 60000) & \n",
    "                  (df_pyspark['Salary']>= 50000)).show()"
   ]
  },
  {
   "cell_type": "code",
   "execution_count": 20,
   "id": "2d0316d8",
   "metadata": {},
   "outputs": [
    {
     "name": "stdout",
     "output_type": "stream",
     "text": [
      "+-------+---+------+-------------+-----------+\n",
      "|   Name|Age|Salary|         City| Department|\n",
      "+-------+---+------+-------------+-----------+\n",
      "|   John| 30| 72901|     New York|         HR|\n",
      "|  Alice| 31| 72817|San Francisco|Engineering|\n",
      "|    Bob| 32| 64682|  Los Angeles|      Sales|\n",
      "|Charlie| 20| 62500|      Chicago|  Marketing|\n",
      "|  David| 27| 56232|       Boston|    Finance|\n",
      "|   John| 31| 43894|     New York|         HR|\n",
      "|  Alice| 37| 44318|San Francisco|Engineering|\n",
      "|    Bob| 32| 41379|  Los Angeles|      Sales|\n",
      "|Charlie| 31| 63345|      Chicago|  Marketing|\n",
      "|  David| 26| 58870|       Boston|    Finance|\n",
      "|   John| 38| 79745|     New York|         HR|\n",
      "|  Alice| 29| 63187|San Francisco|Engineering|\n",
      "|    Bob| 36| 67289|  Los Angeles|      Sales|\n",
      "|Charlie| 33| 42526|      Chicago|  Marketing|\n",
      "|  David| 22| 79208|       Boston|    Finance|\n",
      "|   John| 26| 69270|     New York|         HR|\n",
      "|  Alice| 25| 43699|San Francisco|Engineering|\n",
      "|    Bob| 36| 72481|  Los Angeles|      Sales|\n",
      "|Charlie| 29| 63446|      Chicago|  Marketing|\n",
      "|  David| 31| 48601|       Boston|    Finance|\n",
      "+-------+---+------+-------------+-----------+\n",
      "only showing top 20 rows\n",
      "\n"
     ]
    }
   ],
   "source": [
    "df_pyspark.filter((df_pyspark['Salary'] <= 60000) |\n",
    "                  (df_pyspark['Salary']>= 50000)).show()"
   ]
  },
  {
   "cell_type": "code",
   "execution_count": 22,
   "id": "674f8107",
   "metadata": {},
   "outputs": [
    {
     "name": "stdout",
     "output_type": "stream",
     "text": [
      "+-------+---+------+-------------+-----------+\n",
      "|   Name|Age|Salary|         City| Department|\n",
      "+-------+---+------+-------------+-----------+\n",
      "|   John| 30| 72901|     New York|         HR|\n",
      "|  Alice| 31| 72817|San Francisco|Engineering|\n",
      "|    Bob| 32| 64682|  Los Angeles|      Sales|\n",
      "|Charlie| 20| 62500|      Chicago|  Marketing|\n",
      "|  David| 27| 56232|       Boston|    Finance|\n",
      "|Charlie| 31| 63345|      Chicago|  Marketing|\n",
      "|  David| 26| 58870|       Boston|    Finance|\n",
      "|   John| 38| 79745|     New York|         HR|\n",
      "|  Alice| 29| 63187|San Francisco|Engineering|\n",
      "|    Bob| 36| 67289|  Los Angeles|      Sales|\n",
      "|  David| 22| 79208|       Boston|    Finance|\n",
      "|   John| 26| 69270|     New York|         HR|\n",
      "|    Bob| 36| 72481|  Los Angeles|      Sales|\n",
      "|Charlie| 29| 63446|      Chicago|  Marketing|\n",
      "|   John| 38| 55512|     New York|         HR|\n",
      "|  Alice| 24| 58956|San Francisco|Engineering|\n",
      "|    Bob| 20| 78489|  Los Angeles|      Sales|\n",
      "|   John| 33| 59229|     New York|         HR|\n",
      "|  Alice| 29| 79275|San Francisco|Engineering|\n",
      "|    Bob| 26| 65510|  Los Angeles|      Sales|\n",
      "+-------+---+------+-------------+-----------+\n",
      "only showing top 20 rows\n",
      "\n"
     ]
    }
   ],
   "source": [
    "df_pyspark.filter(~(df_pyspark['Salary'] <= 50000)).show()"
   ]
  }
 ],
 "metadata": {
  "kernelspec": {
   "display_name": "Python 3 (ipykernel)",
   "language": "python",
   "name": "python3"
  },
  "language_info": {
   "codemirror_mode": {
    "name": "ipython",
    "version": 3
   },
   "file_extension": ".py",
   "mimetype": "text/x-python",
   "name": "python",
   "nbconvert_exporter": "python",
   "pygments_lexer": "ipython3",
   "version": "3.11.5"
  }
 },
 "nbformat": 4,
 "nbformat_minor": 5
}
