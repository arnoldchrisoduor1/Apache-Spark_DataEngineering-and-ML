{
 "cells": [
  {
   "cell_type": "markdown",
   "id": "9e7982bd",
   "metadata": {},
   "source": [
    "# An introduction to Apache Spark."
   ]
  },
  {
   "cell_type": "code",
   "execution_count": 3,
   "id": "f3cf431b",
   "metadata": {},
   "outputs": [],
   "source": [
    "from pyspark.sql import SparkSession\n",
    "from pyspark.sql.types import StructType, StructField, IntegerType, StringType\n",
    "import pyspark.sql.functions as func"
   ]
  },
  {
   "cell_type": "code",
   "execution_count": 4,
   "id": "ab364337",
   "metadata": {},
   "outputs": [],
   "source": [
    "#creating spark session.\n",
    "spark = SparkSession.builder.appName(\"FirstApp\").getOrCreate()"
   ]
  },
  {
   "cell_type": "code",
   "execution_count": 6,
   "id": "0cf78670",
   "metadata": {},
   "outputs": [],
   "source": [
    "#Defining the schema for our dataframe.\n",
    "myschema = StructType([\\\n",
    "                        StructField(\"userID\", IntegerType(), True),\n",
    "                        StructField(\"name\", StringType(), True),\n",
    "                        StructField(\"age\", IntegerType(), True),\n",
    "                        StructField(\"friends\", IntegerType(), True)\n",
    "                      ])"
   ]
  },
  {
   "cell_type": "code",
   "execution_count": 7,
   "id": "fc11d8fb",
   "metadata": {},
   "outputs": [],
   "source": [
    "#creating a data frame on a csv file.\n",
    "people = spark.read.format(\"csv\").schema(myschema).option(\"path\",\"fakefriends.csv\").load()"
   ]
  },
  {
   "cell_type": "code",
   "execution_count": 8,
   "id": "5759c8de",
   "metadata": {},
   "outputs": [],
   "source": [
    "#performing all transformations.\n",
    "output = people.select(people.userID, people.name\\\n",
    "                      ,people.age,people.friends)\\\n",
    "        .where(people.age < 30).withColumn('insert_ts', func.current_timestamp())\\\n",
    "        .orderBy(people.userID)"
   ]
  },
  {
   "cell_type": "code",
   "execution_count": 9,
   "id": "eb1220cb",
   "metadata": {},
   "outputs": [
    {
     "data": {
      "text/plain": [
       "112"
      ]
     },
     "execution_count": 9,
     "metadata": {},
     "output_type": "execute_result"
    }
   ],
   "source": [
    "#taking the count of the o/p DataFrame.\n",
    "output.count()"
   ]
  },
  {
   "cell_type": "code",
   "execution_count": 10,
   "id": "501eac5b",
   "metadata": {},
   "outputs": [],
   "source": [
    "#create a Tempp View.\n",
    "output.createOrReplaceTempView(\"peoples\")"
   ]
  },
  {
   "cell_type": "code",
   "execution_count": 11,
   "id": "ecefec9d",
   "metadata": {},
   "outputs": [
    {
     "name": "stdout",
     "output_type": "stream",
     "text": [
      "+--------+---+-------+--------------------+\n",
      "|    name|age|friends|           insert_ts|\n",
      "+--------+---+-------+--------------------+\n",
      "|Jean-Luc| 26|      2|2023-12-01 17:48:...|\n",
      "|    Hugh| 27|    181|2023-12-01 17:48:...|\n",
      "|  Weyoun| 22|    323|2023-12-01 17:48:...|\n",
      "|   Miles| 19|    268|2023-12-01 17:48:...|\n",
      "|  Julian| 25|      1|2023-12-01 17:48:...|\n",
      "|     Ben| 21|    445|2023-12-01 17:48:...|\n",
      "|  Julian| 22|    100|2023-12-01 17:48:...|\n",
      "|     Nog| 26|    281|2023-12-01 17:48:...|\n",
      "| Beverly| 27|    305|2023-12-01 17:48:...|\n",
      "|    Morn| 25|     96|2023-12-01 17:48:...|\n",
      "|   Brunt| 24|     49|2023-12-01 17:48:...|\n",
      "|     Nog| 20|      1|2023-12-01 17:48:...|\n",
      "| Beverly| 19|    269|2023-12-01 17:48:...|\n",
      "|   Brunt| 19|      5|2023-12-01 17:48:...|\n",
      "|  Geordi| 20|    100|2023-12-01 17:48:...|\n",
      "|  Geordi| 21|    477|2023-12-01 17:48:...|\n",
      "|  Kasidy| 22|    179|2023-12-01 17:48:...|\n",
      "|   Brunt| 20|    384|2023-12-01 17:48:...|\n",
      "|     Ben| 28|    311|2023-12-01 17:48:...|\n",
      "|    Worf| 24|    492|2023-12-01 17:48:...|\n",
      "+--------+---+-------+--------------------+\n",
      "only showing top 20 rows\n",
      "\n"
     ]
    }
   ],
   "source": [
    "#Running a simple spark SQL query.\n",
    "spark.sql(\"select name, age, friends, insert_ts from peoples\").show()"
   ]
  }
 ],
 "metadata": {
  "kernelspec": {
   "display_name": "Python 3 (ipykernel)",
   "language": "python",
   "name": "python3"
  },
  "language_info": {
   "codemirror_mode": {
    "name": "ipython",
    "version": 3
   },
   "file_extension": ".py",
   "mimetype": "text/x-python",
   "name": "python",
   "nbconvert_exporter": "python",
   "pygments_lexer": "ipython3",
   "version": "3.11.5"
  }
 },
 "nbformat": 4,
 "nbformat_minor": 5
}
